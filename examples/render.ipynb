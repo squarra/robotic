{
 "cells": [
  {
   "cell_type": "code",
   "execution_count": null,
   "id": "4d9b99d4",
   "metadata": {},
   "outputs": [],
   "source": [
    "import matplotlib.pyplot as plt\n",
    "import numpy as np\n",
    "import robotic as ry"
   ]
  },
  {
   "cell_type": "code",
   "execution_count": null,
   "id": "bdda6e5b",
   "metadata": {},
   "outputs": [],
   "source": [
    "X = np.random.rand(3, 3, 3)\n",
    "Y = np.random.rand(30, 30, 30)\n",
    "Z = np.random.rand(100, 3)\n",
    "col = 255.0 * np.random.rand(100, 3)\n",
    "\n",
    "C = ry.Config()\n",
    "C.addFrame(\"mesh\").setMeshFile(ry.raiPath(\"g1/meshes/head_link.h5\")).setPosition([0, 0, 0.7])\n",
    "C.addFrame(\"tensor\").setTensorShape(0.01 * X, [1.0, 1.0, 1.0]).setPosition([0, 0, 0.5])\n",
    "C.addFrame(\"implicit\").setImplicitSurface(Y - 0.5, [1.0, 1.0, 1.0], 8).setPosition([1, 0, 0.5])\n",
    "C.addFrame(\"lines\").setLines(Z - 0.5, col).setPosition([-1, 0, 0.5])\n",
    "C.addFrame(\"points\").setPointCloud(Z - 0.5, col).setPosition([-1, 0, 0.5])\n",
    "C.view(False)"
   ]
  },
  {
   "cell_type": "code",
   "execution_count": null,
   "id": "0b77ec9f",
   "metadata": {},
   "outputs": [],
   "source": [
    "C.clear()\n",
    "C.addFile(ry.raiPath(\"scenarios/pandaSingle.g\"))\n",
    "C.view()\n",
    "\n",
    "rgb = C.viewer().getRgb()\n",
    "depth = C.viewer().getDepth()\n",
    "print(rgb.shape, depth.shape)"
   ]
  },
  {
   "cell_type": "code",
   "execution_count": null,
   "id": "8e4ee2f0",
   "metadata": {},
   "outputs": [],
   "source": [
    "fig = plt.figure()\n",
    "fig.add_subplot(1, 2, 1)\n",
    "plt.imshow(rgb)\n",
    "fig.add_subplot(1, 2, 2)\n",
    "plt.imshow(depth)\n",
    "plt.show()"
   ]
  },
  {
   "cell_type": "code",
   "execution_count": null,
   "id": "d456db1c",
   "metadata": {},
   "outputs": [],
   "source": [
    "f = C.getFrame(\"cameraTop\")\n",
    "C.viewer().setCamera(f)\n",
    "C.view()"
   ]
  },
  {
   "cell_type": "code",
   "execution_count": null,
   "id": "0c6ba49a",
   "metadata": {},
   "outputs": [],
   "source": [
    "cam = ry.CameraView(C)\n",
    "cam.setCamera(C.getFrame(\"cameraTop\"))\n",
    "rgb, depth = cam.computeImageAndDepth(C)\n",
    "pcl = ry.depthImage2PointCloud(depth, cam.getFxycxy())\n",
    "print(rgb.shape, depth.shape, pcl.shape)"
   ]
  },
  {
   "cell_type": "code",
   "execution_count": null,
   "id": "0445376d",
   "metadata": {},
   "outputs": [],
   "source": [
    "fig = plt.figure()\n",
    "fig.add_subplot(1, 2, 1)\n",
    "plt.imshow(rgb)\n",
    "fig.add_subplot(1, 2, 2)\n",
    "plt.imshow(depth)\n",
    "plt.show()"
   ]
  },
  {
   "cell_type": "code",
   "execution_count": null,
   "id": "ce08d697",
   "metadata": {},
   "outputs": [],
   "source": [
    "f = C.addFrame(\"pcl\", \"cameraTop\")\n",
    "f.setPointCloud(pcl, [255, 0, 0])\n",
    "C.view()"
   ]
  }
 ],
 "metadata": {
  "kernelspec": {
   "display_name": "robotic",
   "language": "python",
   "name": "python3"
  },
  "language_info": {
   "codemirror_mode": {
    "name": "ipython",
    "version": 3
   },
   "file_extension": ".py",
   "mimetype": "text/x-python",
   "name": "python",
   "nbconvert_exporter": "python",
   "pygments_lexer": "ipython3",
   "version": "3.13.5"
  }
 },
 "nbformat": 4,
 "nbformat_minor": 5
}
